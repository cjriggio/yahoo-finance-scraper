{
 "cells": [
  {
   "cell_type": "code",
   "execution_count": 2,
   "metadata": {},
   "outputs": [],
   "source": [
    "import pandas as pd\n",
    "from bs4 import BeautifulSoup\n",
    "import urllib.request\n",
    "import time\n",
    "import random\n",
    "import requests\n",
    "from tqdm import tqdm_notebook as tqdm\n",
    "import datetime as dt\n",
    "import numpy as np\n",
    "\n",
    "from headers import rand_user_agent"
   ]
  },
  {
   "cell_type": "code",
   "execution_count": 13,
   "metadata": {},
   "outputs": [
    {
     "data": {
      "text/plain": [
       "'Mozilla/5.0 (Windows NT 5.1; Win64; x64) AppleWebKit/537.36 (KHTML, like Gecko) Chrome/60.0.3112.90 Safari/537.36'"
      ]
     },
     "execution_count": 13,
     "metadata": {},
     "output_type": "execute_result"
    }
   ],
   "source": [
    "rand_user_agent()"
   ]
  },
  {
   "cell_type": "code",
   "execution_count": 44,
   "metadata": {},
   "outputs": [],
   "source": [
    "sp500 = 'https://finance.yahoo.com/quote/%5EGSPC/history?p=%5EGSPC'\n",
    "vxx = 'https://finance.yahoo.com/quote/VXX/history?p=VXX'"
   ]
  },
  {
   "cell_type": "code",
   "execution_count": 15,
   "metadata": {},
   "outputs": [],
   "source": [
    "header = {'User-Agent': rand_user_agent()}\n",
    "url = sp500\n",
    "request = urllib.request.Request(url,headers=header)\n",
    "response = urllib.request.urlopen(request)\n",
    "html = response.read()\n",
    "\n",
    "soup = BeautifulSoup(html)"
   ]
  },
  {
   "cell_type": "code",
   "execution_count": null,
   "metadata": {},
   "outputs": [],
   "source": [
    "#<td class=\"Py(10px) Ta(start) Pend(10px)\" data-reactid=\"52\"><span data-reactid=\"53\">Apr 24, 2020</span></td>"
   ]
  },
  {
   "cell_type": "code",
   "execution_count": 74,
   "metadata": {},
   "outputs": [
    {
     "data": {
      "text/plain": [
       "'Apr 24, 2020'"
      ]
     },
     "execution_count": 74,
     "metadata": {},
     "output_type": "execute_result"
    }
   ],
   "source": [
    "#date\n",
    "soup.find_all('td', {'class':'Py(10px) Ta(start) Pend(10px)'})[0].text"
   ]
  },
  {
   "cell_type": "code",
   "execution_count": 75,
   "metadata": {},
   "outputs": [],
   "source": [
    "test = soup.findAll('td', {'class':'Py(10px) Ta(start) Pend(10px)'})[0].text"
   ]
  },
  {
   "cell_type": "code",
   "execution_count": 43,
   "metadata": {},
   "outputs": [
    {
     "data": {
      "text/plain": [
       "datetime.datetime(2020, 4, 24, 0, 0)"
      ]
     },
     "execution_count": 43,
     "metadata": {},
     "output_type": "execute_result"
    }
   ],
   "source": [
    "dt.datetime.strptime(test, '%b %d, %Y')"
   ]
  },
  {
   "cell_type": "code",
   "execution_count": null,
   "metadata": {},
   "outputs": [],
   "source": []
  },
  {
   "cell_type": "code",
   "execution_count": null,
   "metadata": {},
   "outputs": [],
   "source": [
    "#<td class=\"Py(10px) Pstart(10px)\" data-reactid=\"56\"><span data-reactid=\"57\">2,842.71</span></td>"
   ]
  },
  {
   "cell_type": "code",
   "execution_count": 84,
   "metadata": {},
   "outputs": [
    {
     "name": "stdout",
     "output_type": "stream",
     "text": [
      "2,812.64\n",
      "2,810.42\n",
      "2,787.89\n"
     ]
    }
   ],
   "source": [
    "#Open\n",
    "print(soup.find_all('td', {'class': 'Py(10px) Pstart(10px)'})[0].text)\n",
    "print(soup.find_all('td', {'class': 'Py(10px) Pstart(10px)'})[6].text)\n",
    "print(soup.find_all('td', {'class': 'Py(10px) Pstart(10px)'})[12].text)"
   ]
  },
  {
   "cell_type": "code",
   "execution_count": 48,
   "metadata": {},
   "outputs": [],
   "source": [
    "test2 = soup.find_all('td', {'class': 'Py(10px) Pstart(10px)'})[0].text"
   ]
  },
  {
   "cell_type": "code",
   "execution_count": 52,
   "metadata": {},
   "outputs": [],
   "source": [
    "x = test2.replace(',','')"
   ]
  },
  {
   "cell_type": "code",
   "execution_count": 58,
   "metadata": {},
   "outputs": [
    {
     "data": {
      "text/plain": [
       "2812.64"
      ]
     },
     "execution_count": 58,
     "metadata": {},
     "output_type": "execute_result"
    }
   ],
   "source": [
    "float(x)"
   ]
  },
  {
   "cell_type": "code",
   "execution_count": null,
   "metadata": {},
   "outputs": [],
   "source": []
  },
  {
   "cell_type": "code",
   "execution_count": null,
   "metadata": {},
   "outputs": [],
   "source": [
    "#<td class=\"Py(10px) Pstart(10px)\" data-reactid=\"56\"><span data-reactid=\"57\">2,842.71</span></td>"
   ]
  },
  {
   "cell_type": "code",
   "execution_count": 93,
   "metadata": {},
   "outputs": [
    {
     "name": "stdout",
     "output_type": "stream",
     "text": [
      "2,842.71\n",
      "2,844.90\n",
      "2,815.10\n"
     ]
    }
   ],
   "source": [
    "#High\n",
    "print(soup.find_all('td', {'class': 'Py(10px) Pstart(10px)'})[1].text)\n",
    "print(soup.find_all('td', {'class': 'Py(10px) Pstart(10px)'})[7].text)\n",
    "print(soup.find_all('td', {'class': 'Py(10px) Pstart(10px)'})[13].text)"
   ]
  },
  {
   "cell_type": "code",
   "execution_count": 95,
   "metadata": {},
   "outputs": [
    {
     "name": "stdout",
     "output_type": "stream",
     "text": [
      "2,791.76\n",
      "2,794.26\n",
      "2,775.95\n"
     ]
    }
   ],
   "source": [
    "#Low\n",
    "print(soup.find_all('td', {'class': 'Py(10px) Pstart(10px)'})[2].text)\n",
    "print(soup.find_all('td', {'class': 'Py(10px) Pstart(10px)'})[8].text)\n",
    "print(soup.find_all('td', {'class': 'Py(10px) Pstart(10px)'})[14].text)"
   ]
  },
  {
   "cell_type": "code",
   "execution_count": 97,
   "metadata": {},
   "outputs": [
    {
     "name": "stdout",
     "output_type": "stream",
     "text": [
      "2,836.74\n",
      "2,797.80\n",
      "2,799.31\n"
     ]
    }
   ],
   "source": [
    "#Close\n",
    "print(soup.find_all('td', {'class': 'Py(10px) Pstart(10px)'})[3].text)\n",
    "print(soup.find_all('td', {'class': 'Py(10px) Pstart(10px)'})[9].text)\n",
    "print(soup.find_all('td', {'class': 'Py(10px) Pstart(10px)'})[15].text)"
   ]
  },
  {
   "cell_type": "code",
   "execution_count": 99,
   "metadata": {},
   "outputs": [
    {
     "name": "stdout",
     "output_type": "stream",
     "text": [
      "2,836.74\n",
      "2,797.80\n",
      "2,799.31\n"
     ]
    }
   ],
   "source": [
    "#Adj Close\n",
    "print(soup.find_all('td', {'class': 'Py(10px) Pstart(10px)'})[4].text)\n",
    "print(soup.find_all('td', {'class': 'Py(10px) Pstart(10px)'})[10].text)\n",
    "print(soup.find_all('td', {'class': 'Py(10px) Pstart(10px)'})[16].text)"
   ]
  },
  {
   "cell_type": "code",
   "execution_count": 101,
   "metadata": {},
   "outputs": [
    {
     "name": "stdout",
     "output_type": "stream",
     "text": [
      "5,374,480,000\n",
      "5,756,520,000\n",
      "5,049,660,000\n"
     ]
    }
   ],
   "source": [
    "#Volume\n",
    "print(soup.find_all('td', {'class': 'Py(10px) Pstart(10px)'})[5].text)\n",
    "print(soup.find_all('td', {'class': 'Py(10px) Pstart(10px)'})[11].text)\n",
    "print(soup.find_all('td', {'class': 'Py(10px) Pstart(10px)'})[17].text)"
   ]
  },
  {
   "cell_type": "code",
   "execution_count": null,
   "metadata": {},
   "outputs": [],
   "source": []
  },
  {
   "cell_type": "code",
   "execution_count": null,
   "metadata": {},
   "outputs": [],
   "source": []
  },
  {
   "cell_type": "code",
   "execution_count": null,
   "metadata": {},
   "outputs": [],
   "source": []
  },
  {
   "cell_type": "code",
   "execution_count": null,
   "metadata": {},
   "outputs": [],
   "source": []
  }
 ],
 "metadata": {
  "kernelspec": {
   "display_name": "py37",
   "language": "python",
   "name": "py37"
  },
  "language_info": {
   "codemirror_mode": {
    "name": "ipython",
    "version": 3
   },
   "file_extension": ".py",
   "mimetype": "text/x-python",
   "name": "python",
   "nbconvert_exporter": "python",
   "pygments_lexer": "ipython3",
   "version": "3.7.5"
  }
 },
 "nbformat": 4,
 "nbformat_minor": 2
}
